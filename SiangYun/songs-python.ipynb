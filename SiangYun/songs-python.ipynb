{
 "cells": [
  {
   "cell_type": "code",
   "execution_count": 2,
   "id": "ab8c0d01",
   "metadata": {},
   "outputs": [],
   "source": [
    "import sys\n",
    "import h5py\n",
    "import pandas as pd \n",
    "import numpy as nm\n",
    "import table as HDF5\n",
    "import csv\n",
    "import sqlite3"
   ]
  },
  {
   "cell_type": "code",
   "execution_count": 2,
   "id": "8d9b7b33",
   "metadata": {},
   "outputs": [
    {
     "name": "stdout",
     "output_type": "stream",
     "text": [
      "need pg module and MBrainzDB folder of Python source code if you\n",
      "want to use musicbrainz related functions, e.g. fill_hdf5_from_musicbrainz\n"
     ]
    }
   ],
   "source": [
    "# import hdf5_utils as HDF5\n",
    "# import hdf5_getters as g"
   ]
  },
  {
   "cell_type": "code",
   "execution_count": 3,
   "id": "b23f803d",
   "metadata": {},
   "outputs": [
    {
     "data": {
      "text/plain": [
       "<filter at 0x7fc9bb19d370>"
      ]
     },
     "execution_count": 3,
     "metadata": {},
     "output_type": "execute_result"
    }
   ],
   "source": [
    "# filter(lambda x: x[:3] == 'get',HDF5.__dict__.keys())"
   ]
  },
  {
   "cell_type": "code",
   "execution_count": 9,
   "id": "81bf445b",
   "metadata": {},
   "outputs": [],
   "source": [
    "import glob\n",
    "# files = glob.glob('/Users/vijayaadhithan/Desktop/MillionSongSubset/*/*/*/*.h5')\n",
    "files = glob.glob('/home/project_data/MillionSongSubset/*/*/*/*.h5')"
   ]
  },
  {
   "cell_type": "code",
   "execution_count": 10,
   "id": "235d0b8b",
   "metadata": {},
   "outputs": [
    {
     "data": {
      "text/plain": [
       "10000"
      ]
     },
     "execution_count": 10,
     "metadata": {},
     "output_type": "execute_result"
    }
   ],
   "source": [
    "len(files)"
   ]
  },
  {
   "cell_type": "code",
   "execution_count": 11,
   "id": "9397a496",
   "metadata": {},
   "outputs": [],
   "source": [
    "analysis_sample_rate = []\n",
    "audio_md5 = []\n",
    "danceability = []\n",
    "duration = []\n",
    "end_of_fade_in = []\n",
    "energy = []\n",
    "idx_bars_confidence = []\n",
    "idx_bars_start = []\n",
    "idx_beats_confidence = []\n",
    "idx_beats_start = []\n",
    "idx_sections_confidence = []\n",
    "idx_sections_start = []\n",
    "idx_segments_confidence = []\n",
    "idx_segments_loudness_max = []\n",
    "idx_segments_loudness_max_time = []\n",
    "idx_segments_loudness_start = []\n",
    "idx_segments_pitches = []\n",
    "idx_segments_start = []\n",
    "idx_segments_timebre = []\n",
    "idx_tatums_confidence = []\n",
    "idx_tatums_start = []\n",
    "key = []\n",
    "key_confidence = []\n",
    "loudness = []\n",
    "mode = []\n",
    "mode_confidence = []\n",
    "start_of_fade_out = []\n",
    "tempo = []\n",
    "time_signature = []\n",
    "time_signature_confidence = []\n",
    "track_id = []"
   ]
  },
  {
   "cell_type": "code",
   "execution_count": 12,
   "id": "8bdc4753",
   "metadata": {},
   "outputs": [
    {
     "name": "stdout",
     "output_type": "stream",
     "text": [
      "CPU times: user 4 µs, sys: 1 µs, total: 5 µs\n",
      "Wall time: 17.2 µs\n"
     ]
    }
   ],
   "source": [
    "%time\n",
    "for f in files:\n",
    "    \n",
    "    h5 = h5py.File(f, 'r')\n",
    "    analysis_sample_ratee = h5['analysis']['songs']['analysis_sample_rate'][0]\n",
    "    audio_md55 = h5['analysis']['songs']['audio_md5'][0].decode('utf-8')\n",
    "    danceabilityy = h5['analysis']['songs']['danceability'][0]\n",
    "    durationn = h5['analysis']['songs']['duration'][0]\n",
    "    end_of_fade_inn = h5['analysis']['songs']['end_of_fade_in'][0]\n",
    "    energyy = h5['analysis']['songs']['energy'][0]\n",
    "    idx_bars_confidencee = h5['analysis']['songs']['idx_bars_confidence'][0]\n",
    "    idx_bars_startt = h5['analysis']['songs']['idx_bars_start'][0]\n",
    "    idx_beats_confidencee = h5['analysis']['songs']['idx_beats_confidence'][0]\n",
    "    idx_beats_startt = h5['analysis']['songs']['idx_beats_start'][0]\n",
    "    idx_sections_confidencee = h5['analysis']['songs']['idx_sections_confidence'][0]\n",
    "    idx_sections_startt = h5['analysis']['songs']['idx_sections_start'][0]\n",
    "    idx_segments_confidencee = h5['analysis']['songs']['idx_segments_confidence'][0]\n",
    "    idx_segments_loudness_maxx = h5['analysis']['songs']['idx_segments_loudness_max'][0]\n",
    "    idx_segments_loudness_max_timee = h5['analysis']['songs']['idx_segments_loudness_max_time'][0]\n",
    "    idx_segments_loudness_startt = h5['analysis']['songs']['idx_segments_loudness_start'][0]\n",
    "    idx_segments_pitchess = h5['analysis']['songs']['idx_segments_pitches'][0]\n",
    "    idx_segments_startt = h5['analysis']['songs']['idx_segments_start'][0]\n",
    "    idx_segments_timebree = h5['analysis']['songs']['idx_segments_timbre'][0]\n",
    "    idx_tatums_confidencee = h5['analysis']['songs']['idx_tatums_confidence'][0]\n",
    "    idx_tatums_startt = h5['analysis']['songs']['idx_tatums_start'][0]\n",
    "    keyy = h5['analysis']['songs']['key'][0]\n",
    "    key_confidencee = h5['analysis']['songs']['key_confidence'][0]\n",
    "    loudnesss = h5['analysis']['songs']['loudness'][0]\n",
    "    modee = h5['analysis']['songs']['mode'][0]\n",
    "    mode_confidencee = h5['analysis']['songs']['mode_confidence'][0]\n",
    "    start_of_fade_outt = h5['analysis']['songs']['start_of_fade_out'][0]\n",
    "    tempoo = h5['analysis']['songs']['tempo'][0]\n",
    "    time_signaturee = h5['analysis']['songs']['time_signature'][0]\n",
    "    time_signature_confidencee = h5['analysis']['songs']['time_signature_confidence'][0]\n",
    "    track_idd = h5['analysis']['songs']['track_id'][0]\n",
    "    \n",
    "    analysis_sample_rate.append(analysis_sample_ratee)\n",
    "    audio_md5.append(audio_md55)\n",
    "    danceability.append(danceabilityy)\n",
    "    duration.append(durationn)\n",
    "    end_of_fade_in.append(end_of_fade_inn)\n",
    "    energy.append(energyy)\n",
    "    idx_bars_confidence.append(idx_bars_confidencee)\n",
    "    idx_bars_start.append(idx_bars_startt)\n",
    "    idx_beats_confidence.append(idx_beats_confidencee)\n",
    "    idx_beats_start.append(idx_beats_startt)\n",
    "    idx_sections_confidence.append(idx_sections_confidencee)\n",
    "    idx_sections_start.append(idx_sections_startt)\n",
    "    idx_segments_confidence.append(idx_segments_confidencee)\n",
    "    idx_segments_loudness_max.append(idx_segments_loudness_maxx)\n",
    "    idx_segments_loudness_max_time.append(idx_segments_loudness_max_timee)\n",
    "    idx_segments_loudness_start.append(idx_segments_loudness_startt)\n",
    "    idx_segments_pitches.append(idx_segments_pitchess)\n",
    "    idx_segments_start.append(idx_segments_startt)\n",
    "    idx_segments_timebre.append(idx_segments_timebree)\n",
    "    idx_tatums_confidence.append(idx_tatums_confidencee)\n",
    "    idx_tatums_start.append(idx_tatums_startt)\n",
    "    key.append(keyy)\n",
    "    key_confidence.append(key_confidencee)\n",
    "    loudness.append(loudnesss)\n",
    "    mode.append(modee)\n",
    "    mode_confidence.append(mode_confidencee)\n",
    "    start_of_fade_out.append(start_of_fade_outt)\n",
    "    tempo.append(tempoo)\n",
    "    time_signature.append(time_signaturee)\n",
    "    time_signature_confidence.append(time_signature_confidencee)\n",
    "    track_id.append(track_idd)\n",
    "    h5.close()"
   ]
  },
  {
   "cell_type": "code",
   "execution_count": 13,
   "id": "2ad1f496",
   "metadata": {},
   "outputs": [],
   "source": [
    "data_song_3_columns = {'analysis_sample_rate':analysis_sample_rate,\n",
    "             'danceability':danceability,\n",
    "             'duration':duration,\n",
    "            }"
   ]
  },
  {
   "cell_type": "code",
   "execution_count": 7,
   "id": "a4a1e894",
   "metadata": {},
   "outputs": [],
   "source": [
    "song_df3=pd.DataFrame(data_song_3_columns)"
   ]
  },
  {
   "cell_type": "code",
   "execution_count": 8,
   "id": "656774cd",
   "metadata": {},
   "outputs": [
    {
     "data": {
      "text/plain": [
       "0"
      ]
     },
     "execution_count": 8,
     "metadata": {},
     "output_type": "execute_result"
    }
   ],
   "source": [
    "len(song_df3)"
   ]
  },
  {
   "cell_type": "code",
   "execution_count": null,
   "id": "e15f6efd",
   "metadata": {},
   "outputs": [],
   "source": [
    "song_df3.head()"
   ]
  },
  {
   "cell_type": "code",
   "execution_count": 33,
   "id": "3b17034b",
   "metadata": {},
   "outputs": [],
   "source": [
    "song_df3.to_csv('songs_3_columns.csv', sep=',')"
   ]
  },
  {
   "cell_type": "code",
   "execution_count": 4,
   "id": "e2c1064e",
   "metadata": {},
   "outputs": [
    {
     "name": "stdout",
     "output_type": "stream",
     "text": [
      "\n",
      "Converting csv into Dataframe...\n",
      "      index  analysis_sample_rate  danceability   duration\n",
      "0         0                 22050           0.0  247.24853\n",
      "1         1                 22050           0.0  281.70404\n",
      "2         2                 22050           0.0  165.40689\n",
      "3         3                 22050           0.0  184.52853\n",
      "4         4                 22050           0.0  236.27710\n",
      "...     ...                   ...           ...        ...\n",
      "9995   9995                 22050           0.0  128.83546\n",
      "9996   9996                 22050           0.0  178.75546\n",
      "9997   9997                 22050           0.0  171.23220\n",
      "9998   9998                 22050           0.0  234.68363\n",
      "9999   9999                 22050           0.0  180.37506\n",
      "\n",
      "[10000 rows x 4 columns]\n"
     ]
    }
   ],
   "source": [
    "#Take csv and load in pandas dataframe_3columns\n",
    "print(\"\\nConverting csv into Dataframe...\")\n",
    "df = pd.read_csv(\n",
    "    filepath_or_buffer='/home/project_data/jupyter_notebook/songs_3_columns.csv',\n",
    "    header = 0\n",
    ")\n",
    "print(df)"
   ]
  },
  {
   "cell_type": "code",
   "execution_count": 28,
   "id": "915be0a2",
   "metadata": {},
   "outputs": [
    {
     "name": "stdout",
     "output_type": "stream",
     "text": [
      "\n",
      "Converting csv into Dataframe...\n",
      "      Unnamed: 0  analysis_sample_rate                         audio_md5  \\\n",
      "0              0                 22050  1fd7f65bcc4ed281447bc03e9f0dcb47   \n",
      "1              1                 22050  521599cd117b1dba0c38d0214f34d9e4   \n",
      "2              2                 22050  185e9694ebb68f29716b5d9a219cb193   \n",
      "3              3                 22050  ebb4f6e2f34dd81ca92b807f71a3a258   \n",
      "4              4                 22050  6e28a63f6f911e2e2accfb2de65d9836   \n",
      "...          ...                   ...                               ...   \n",
      "9995        9995                 22050  752506cf8036f12ae6807f167a981c16   \n",
      "9996        9996                 22050  2fe4aed618eba57a5945e7c13b0cd7b7   \n",
      "9997        9997                 22050  3686d91d23ceff6e8770e20e242dfdc7   \n",
      "9998        9998                 22050  acccf3a5fbbb6823f43592b19c44ce73   \n",
      "9999        9999                 22050  7c7ca46692789a94a0c29687919b97e3   \n",
      "\n",
      "      danceability   duration  end_of_fade_in  energy  idx_bars_confidence  \\\n",
      "0              0.0  247.24853           0.236     0.0                    0   \n",
      "1              0.0  281.70404           0.212     0.0                    0   \n",
      "2              0.0  165.40689           0.000     0.0                    0   \n",
      "3              0.0  184.52853           1.565     0.0                    0   \n",
      "4              0.0  236.27710           0.000     0.0                    0   \n",
      "...            ...        ...             ...     ...                  ...   \n",
      "9995           0.0  128.83546           0.000     0.0                    0   \n",
      "9996           0.0  178.75546           0.752     0.0                    0   \n",
      "9997           0.0  171.23220           0.160     0.0                    0   \n",
      "9998           0.0  234.68363           0.000     0.0                    0   \n",
      "9999           0.0  180.37506           1.520     0.0                    0   \n",
      "\n",
      "      idx_bars_start  idx_beats_confidence  ...  key  key_confidence  \\\n",
      "0                  0                     0  ...    0           0.590   \n",
      "1                  0                     0  ...    0           0.412   \n",
      "2                  0                     0  ...    1           0.624   \n",
      "3                  0                     0  ...    3           0.413   \n",
      "4                  0                     0  ...    3           0.195   \n",
      "...              ...                   ...  ...  ...             ...   \n",
      "9995               0                     0  ...    5           0.611   \n",
      "9996               0                     0  ...    4           0.499   \n",
      "9997               0                     0  ...    0           0.762   \n",
      "9998               0                     0  ...    5           0.132   \n",
      "9999               0                     0  ...    7           0.018   \n",
      "\n",
      "      loudness  mode  mode_confidence  start_of_fade_out    tempo  \\\n",
      "0       -9.181     1            0.568            239.473  182.456   \n",
      "1       -8.061     0            0.615            269.415  105.837   \n",
      "2       -6.393     1            0.568            152.520  139.009   \n",
      "3      -27.737     0            0.290            179.206   94.853   \n",
      "4      -13.971     0            0.427            229.320  140.042   \n",
      "...        ...   ...              ...                ...      ...   \n",
      "9995    -8.966     0            0.712            116.599  139.972   \n",
      "9996   -21.858     0            0.559            173.801  163.083   \n",
      "9997   -11.101     1            0.662            168.275  114.045   \n",
      "9998   -14.213     0            0.354            230.017  102.605   \n",
      "9999   -16.067     1            0.484            173.169   60.509   \n",
      "\n",
      "      time_signature  time_signature_confidence               track_id  \n",
      "0                  7                      1.000  b'TRBHSRB128F429F827'  \n",
      "1                  4                      0.477  b'TRBHSMF128F4285B9C'  \n",
      "2                  4                      0.000  b'TRBHSJX128F42BAE98'  \n",
      "3                  1                      0.000  b'TRBHSOA12903CCC4B2'  \n",
      "4                  4                      0.788  b'TRBHSWH12903D07A35'  \n",
      "...              ...                        ...                    ...  \n",
      "9995               4                      1.000  b'TRAFFEQ12903CF4356'  \n",
      "9996               1                      0.000  b'TRAFFSE128F429FB8D'  \n",
      "9997               5                      0.623  b'TRAFFCC128F9348D0D'  \n",
      "9998               1                      1.000  b'TRAFFKV12903CE29B5'  \n",
      "9999               5                      0.487  b'TRAFFEE12903CC04B4'  \n",
      "\n",
      "[10000 rows x 32 columns]\n"
     ]
    }
   ],
   "source": [
    "#Take csv and load in pandas dataframe_allcolumns\n",
    "print(\"\\nConverting csv into Dataframe...\")\n",
    "df = pd.read_csv(\n",
    "    filepath_or_buffer='/home/project_data/jupyter_notebook/songs.csv',\n",
    "    header = 0\n",
    ")\n",
    "print(df)"
   ]
  },
  {
   "cell_type": "code",
   "execution_count": 13,
   "id": "d8902753",
   "metadata": {},
   "outputs": [
    {
     "name": "stdout",
     "output_type": "stream",
     "text": [
      "\n",
      "Connecting to SQLite database. If it doesn't exist, a new one will be created...\n"
     ]
    }
   ],
   "source": [
    "#Inserting the Pandas Dataframe values into SQLite\n",
    "print(\"\\nConnecting to SQLite database. If it doesn't exist, a new one will be created...\")\n",
    "connection = sqlite3.connect('/tmp/project.db')"
   ]
  },
  {
   "cell_type": "code",
   "execution_count": 30,
   "id": "e9314835",
   "metadata": {},
   "outputs": [
    {
     "data": {
      "text/plain": [
       "10000"
      ]
     },
     "execution_count": 30,
     "metadata": {},
     "output_type": "execute_result"
    }
   ],
   "source": [
    "df.to_sql(\n",
    "    name = 'song_allcolumn_test',\n",
    "    con = connection,\n",
    "    if_exists = 'replace',\n",
    "    index = False,\n",
    "    dtype = {\n",
    "        'index': 'real',\n",
    "        'analysis_sample_rate': 'real',\n",
    "        'audio_md5': 'text',\n",
    "        'danceability': 'real',\n",
    "        'duration': 'real',\n",
    "        'end_of_fade_in': 'real',\n",
    "        'energy': 'real',\n",
    "        'idx_bars_confidence': 'real',\n",
    "        'idx_bars_start': 'real',\n",
    "        'idx_beats_confidence': 'real',\n",
    "        'idx_beats_start': 'real',\n",
    "        'idx_sections_confidence': 'real',\n",
    "        'idx_sections_start': 'real',\n",
    "        'idx_segments_confidence': 'real',\n",
    "        'idx_segments_loudness_max': 'real',\n",
    "        'idx_segments_loudness_max_time': 'real',\n",
    "        'idx_segments_loudness_start': 'real',\n",
    "        'idx_segments_pitches': 'real',\n",
    "        'idx_segments_start': 'real',\n",
    "        'idx_segments_timebre': 'real',\n",
    "        'idx_tatums_confidence': 'real',\n",
    "        'idx_tatums_start': 'real',\n",
    "        'key': 'real',\n",
    "        'key_confidence': 'real',\n",
    "        'loudness': 'real',\n",
    "        'mode': 'real',\n",
    "        'mode_confidence': 'real',\n",
    "        'start_of_fade_out': 'real',\n",
    "        'tempo': 'real',\n",
    "        'time_signature': 'real',\n",
    "        'time_signature_confidence': 'real',\n",
    "        'track_id': 'text'\n",
    "    }\n",
    "\n",
    ")"
   ]
  },
  {
   "cell_type": "code",
   "execution_count": null,
   "id": "f1229f9c",
   "metadata": {},
   "outputs": [],
   "source": [
    "#For three columns\n",
    "df.to_sql(\n",
    "    name = 'song_3column_test',\n",
    "    con = connection,\n",
    "    if_exists = 'replace',\n",
    "    index = False,\n",
    "    dtype = {\n",
    "        'index': 'real',\n",
    "        'analysis_sample_rate': 'real',\n",
    "        'danceability': 'real',\n",
    "        'duration': 'real': 'real'\n",
    "    }\n",
    "\n",
    ")"
   ]
  },
  {
   "cell_type": "code",
   "execution_count": 32,
   "id": "c684bd6d",
   "metadata": {},
   "outputs": [
    {
     "name": "stdout",
     "output_type": "stream",
     "text": [
      "[(192, 22050.0, '242150e5cf13162cc9a7aebeaa19fec7', 0.0, 1280.88771, 0.375, 0.0, 0.0, 0.0, 0.0, 0.0, 0.0, 0.0, 0.0, 0.0, 0.0, 0.0, 0.0, 0.0, 0.0, 0.0, 0.0, 8.0, 0.2, -15.357, 0.0, 0.351, 1172.428, 88.341, 7.0, 0.694, \"b'TRBHDSW128F42ABC12'\")]\n"
     ]
    }
   ],
   "source": [
    "cursor = connection.cursor()\n",
    "# rows = cursor.execute(\"SELECT * FROM song_3column_test WHERE duration > 1000\").fetchall()\n",
    "rows = cursor.execute(\"SELECT * FROM song_allcolumn_test WHERE duration > 1000 LIMIT 1\").fetchall()\n",
    "print(rows)"
   ]
  },
  {
   "cell_type": "code",
   "execution_count": 12,
   "id": "9f28c8b1",
   "metadata": {},
   "outputs": [
    {
     "name": "stdout",
     "output_type": "stream",
     "text": [
      "\n",
      "Saving and closing SQLite database connection...\n"
     ]
    }
   ],
   "source": [
    "#Solving and closing the SQLite database\n",
    "print('\\nSaving and closing SQLite database connection...')\n",
    "connection.commit()\n",
    "connection.close()"
   ]
  },
  {
   "cell_type": "code",
   "execution_count": null,
   "id": "a211504b",
   "metadata": {},
   "outputs": [],
   "source": []
  }
 ],
 "metadata": {
  "kernelspec": {
   "display_name": "Python 3 (ipykernel)",
   "language": "python",
   "name": "python3"
  },
  "language_info": {
   "codemirror_mode": {
    "name": "ipython",
    "version": 3
   },
   "file_extension": ".py",
   "mimetype": "text/x-python",
   "name": "python",
   "nbconvert_exporter": "python",
   "pygments_lexer": "ipython3",
   "version": "3.10.6"
  }
 },
 "nbformat": 4,
 "nbformat_minor": 5
}
