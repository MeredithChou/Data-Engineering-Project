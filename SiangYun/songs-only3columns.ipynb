{
 "cells": [
  {
   "cell_type": "code",
   "execution_count": 1,
   "id": "ab8c0d01",
   "metadata": {},
   "outputs": [],
   "source": [
    "import sys\n",
    "import h5py\n",
    "import pandas as pd \n",
    "import numpy as nm\n",
    "import table as HDF5"
   ]
  },
  {
   "cell_type": "code",
   "execution_count": 2,
   "id": "8d9b7b33",
   "metadata": {},
   "outputs": [
    {
     "name": "stdout",
     "output_type": "stream",
     "text": [
      "need pg module and MBrainzDB folder of Python source code if you\n",
      "want to use musicbrainz related functions, e.g. fill_hdf5_from_musicbrainz\n"
     ]
    }
   ],
   "source": [
    "# import hdf5_utils as HDF5\n",
    "# import hdf5_getters as g"
   ]
  },
  {
   "cell_type": "code",
   "execution_count": 3,
   "id": "b23f803d",
   "metadata": {},
   "outputs": [
    {
     "data": {
      "text/plain": [
       "<filter at 0x7fc9bb19d370>"
      ]
     },
     "execution_count": 3,
     "metadata": {},
     "output_type": "execute_result"
    }
   ],
   "source": [
    "# filter(lambda x: x[:3] == 'get',HDF5.__dict__.keys())"
   ]
  },
  {
   "cell_type": "code",
   "execution_count": 2,
   "id": "81bf445b",
   "metadata": {},
   "outputs": [],
   "source": [
    "import glob\n",
    "# files = glob.glob('/Users/vijayaadhithan/Desktop/MillionSongSubset/*/*/*/*.h5')\n",
    "files = glob.glob('/tmp/project_data/MillionSongSubset/*/*/*/*.h5')"
   ]
  },
  {
   "cell_type": "code",
   "execution_count": 3,
   "id": "235d0b8b",
   "metadata": {},
   "outputs": [
    {
     "data": {
      "text/plain": [
       "10000"
      ]
     },
     "execution_count": 3,
     "metadata": {},
     "output_type": "execute_result"
    }
   ],
   "source": [
    "len(files)"
   ]
  },
  {
   "cell_type": "code",
   "execution_count": 4,
   "id": "9397a496",
   "metadata": {},
   "outputs": [],
   "source": [
    "analysis_sample_rate = []\n",
    "audio_md5 = []\n",
    "danceability = []\n",
    "duration = []\n",
    "end_of_fade_in = []\n",
    "energy = []\n",
    "idx_bars_confidence = []\n",
    "idx_bars_start = []\n",
    "idx_beats_confidence = []\n",
    "idx_beats_start = []\n",
    "idx_sections_confidence = []\n",
    "idx_sections_start = []\n",
    "idx_segments_confidence = []\n",
    "idx_segments_loudness_max = []\n",
    "idx_segments_loudness_max_time = []\n",
    "idx_segments_loudness_start = []\n",
    "idx_segments_pitches = []\n",
    "idx_segments_start = []\n",
    "idx_segments_timebre = []\n",
    "idx_tatums_confidence = []\n",
    "idx_tatums_start = []\n",
    "key = []\n",
    "key_confidence = []\n",
    "loudness = []\n",
    "mode = []\n",
    "mode_confidence = []\n",
    "start_of_fade_out = []\n",
    "tempo = []\n",
    "time_signature = []\n",
    "time_signature_confidence = []\n",
    "track_id = []"
   ]
  },
  {
   "cell_type": "code",
   "execution_count": 5,
   "id": "8bdc4753",
   "metadata": {},
   "outputs": [
    {
     "name": "stdout",
     "output_type": "stream",
     "text": [
      "CPU times: user 2 µs, sys: 1e+03 ns, total: 3 µs\n",
      "Wall time: 7.87 µs\n"
     ]
    }
   ],
   "source": [
    "%time\n",
    "for f in files:\n",
    "    \n",
    "    h5 = h5py.File(f, 'r')\n",
    "    analysis_sample_ratee = h5['analysis']['songs']['analysis_sample_rate'][0]\n",
    "    audio_md55 = h5['analysis']['songs']['audio_md5'][0].decode('utf-8')\n",
    "    danceabilityy = h5['analysis']['songs']['danceability'][0]\n",
    "    durationn = h5['analysis']['songs']['duration'][0]\n",
    "    end_of_fade_inn = h5['analysis']['songs']['end_of_fade_in'][0]\n",
    "    energyy = h5['analysis']['songs']['energy'][0]\n",
    "    idx_bars_confidencee = h5['analysis']['songs']['idx_bars_confidence'][0]\n",
    "    idx_bars_startt = h5['analysis']['songs']['idx_bars_start'][0]\n",
    "    idx_beats_confidencee = h5['analysis']['songs']['idx_beats_confidence'][0]\n",
    "    idx_beats_startt = h5['analysis']['songs']['idx_beats_start'][0]\n",
    "    idx_sections_confidencee = h5['analysis']['songs']['idx_sections_confidence'][0]\n",
    "    idx_sections_startt = h5['analysis']['songs']['idx_sections_start'][0]\n",
    "    idx_segments_confidencee = h5['analysis']['songs']['idx_segments_confidence'][0]\n",
    "    idx_segments_loudness_maxx = h5['analysis']['songs']['idx_segments_loudness_max'][0]\n",
    "    idx_segments_loudness_max_timee = h5['analysis']['songs']['idx_segments_loudness_max_time'][0]\n",
    "    idx_segments_loudness_startt = h5['analysis']['songs']['idx_segments_loudness_start'][0]\n",
    "    idx_segments_pitchess = h5['analysis']['songs']['idx_segments_pitches'][0]\n",
    "    idx_segments_startt = h5['analysis']['songs']['idx_segments_start'][0]\n",
    "    idx_segments_timebree = h5['analysis']['songs']['idx_segments_timbre'][0]\n",
    "    idx_tatums_confidencee = h5['analysis']['songs']['idx_tatums_confidence'][0]\n",
    "    idx_tatums_startt = h5['analysis']['songs']['idx_tatums_start'][0]\n",
    "    keyy = h5['analysis']['songs']['key'][0]\n",
    "    key_confidencee = h5['analysis']['songs']['key_confidence'][0]\n",
    "    loudnesss = h5['analysis']['songs']['loudness'][0]\n",
    "    modee = h5['analysis']['songs']['mode'][0]\n",
    "    mode_confidencee = h5['analysis']['songs']['mode_confidence'][0]\n",
    "    start_of_fade_outt = h5['analysis']['songs']['start_of_fade_out'][0]\n",
    "    tempoo = h5['analysis']['songs']['tempo'][0]\n",
    "    time_signaturee = h5['analysis']['songs']['time_signature'][0]\n",
    "    time_signature_confidencee = h5['analysis']['songs']['time_signature_confidence'][0]\n",
    "    track_idd = h5['analysis']['songs']['track_id'][0]\n",
    "    \n",
    "    analysis_sample_rate.append(analysis_sample_ratee)\n",
    "    audio_md5.append(audio_md55)\n",
    "    danceability.append(danceabilityy)\n",
    "    duration.append(durationn)\n",
    "    end_of_fade_in.append(end_of_fade_inn)\n",
    "    energy.append(energyy)\n",
    "    idx_bars_confidence.append(idx_bars_confidencee)\n",
    "    idx_bars_start.append(idx_bars_startt)\n",
    "    idx_beats_confidence.append(idx_beats_confidencee)\n",
    "    idx_beats_start.append(idx_beats_startt)\n",
    "    idx_sections_confidence.append(idx_sections_confidencee)\n",
    "    idx_sections_start.append(idx_sections_startt)\n",
    "    idx_segments_confidence.append(idx_segments_confidencee)\n",
    "    idx_segments_loudness_max.append(idx_segments_loudness_maxx)\n",
    "    idx_segments_loudness_max_time.append(idx_segments_loudness_max_timee)\n",
    "    idx_segments_loudness_start.append(idx_segments_loudness_startt)\n",
    "    idx_segments_pitches.append(idx_segments_pitchess)\n",
    "    idx_segments_start.append(idx_segments_startt)\n",
    "    idx_segments_timebre.append(idx_segments_timebree)\n",
    "    idx_tatums_confidence.append(idx_tatums_confidencee)\n",
    "    idx_tatums_start.append(idx_tatums_startt)\n",
    "    key.append(keyy)\n",
    "    key_confidence.append(key_confidencee)\n",
    "    loudness.append(loudnesss)\n",
    "    mode.append(modee)\n",
    "    mode_confidence.append(mode_confidencee)\n",
    "    start_of_fade_out.append(start_of_fade_outt)\n",
    "    tempo.append(tempoo)\n",
    "    time_signature.append(time_signaturee)\n",
    "    time_signature_confidence.append(time_signature_confidencee)\n",
    "    track_id.append(track_idd)\n",
    "    h5.close()"
   ]
  },
  {
   "cell_type": "code",
   "execution_count": 7,
   "id": "2ad1f496",
   "metadata": {},
   "outputs": [],
   "source": [
    "data_song_3_columns = {'analysis_sample_rate':analysis_sample_rate,\n",
    "             'danceability':danceability,\n",
    "             'duration':duration,\n",
    "            }"
   ]
  },
  {
   "cell_type": "code",
   "execution_count": 29,
   "id": "a4a1e894",
   "metadata": {},
   "outputs": [],
   "source": [
    "song_df3=pd.DataFrame(data_song_3_columns)"
   ]
  },
  {
   "cell_type": "code",
   "execution_count": 8,
   "id": "656774cd",
   "metadata": {},
   "outputs": [
    {
     "ename": "NameError",
     "evalue": "name 'song_df3' is not defined",
     "output_type": "error",
     "traceback": [
      "\u001b[0;31m---------------------------------------------------------------------------\u001b[0m",
      "\u001b[0;31mNameError\u001b[0m                                 Traceback (most recent call last)",
      "Cell \u001b[0;32mIn[8], line 1\u001b[0m\n\u001b[0;32m----> 1\u001b[0m \u001b[38;5;28mlen\u001b[39m(\u001b[43msong_df3\u001b[49m)\n",
      "\u001b[0;31mNameError\u001b[0m: name 'song_df3' is not defined"
     ]
    }
   ],
   "source": [
    "len(song_df3)"
   ]
  },
  {
   "cell_type": "code",
   "execution_count": null,
   "id": "e15f6efd",
   "metadata": {},
   "outputs": [],
   "source": [
    "song_df3.head()"
   ]
  },
  {
   "cell_type": "code",
   "execution_count": 33,
   "id": "3b17034b",
   "metadata": {},
   "outputs": [],
   "source": [
    "song_df3.to_csv('songs_3_columns.csv', sep=',')"
   ]
  },
  {
   "cell_type": "code",
   "execution_count": null,
   "id": "e2c1064e",
   "metadata": {},
   "outputs": [],
   "source": []
  }
 ],
 "metadata": {
  "kernelspec": {
   "display_name": "Python 3 (ipykernel)",
   "language": "python",
   "name": "python3"
  },
  "language_info": {
   "codemirror_mode": {
    "name": "ipython",
    "version": 3
   },
   "file_extension": ".py",
   "mimetype": "text/x-python",
   "name": "python",
   "nbconvert_exporter": "python",
   "pygments_lexer": "ipython3",
   "version": "3.10.6"
  }
 },
 "nbformat": 4,
 "nbformat_minor": 5
}
