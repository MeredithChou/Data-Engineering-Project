{
 "cells": [
  {
   "cell_type": "code",
   "execution_count": 1,
   "id": "ab8c0d01",
   "metadata": {},
   "outputs": [],
   "source": [
    "import sys\n",
    "import h5py\n",
    "import pandas as pd \n",
    "import numpy as nm\n",
    "import table as HDF5\n",
    "import csv\n",
    "import sqlite3"
   ]
  },
  {
   "cell_type": "code",
   "execution_count": 2,
   "id": "8d9b7b33",
   "metadata": {},
   "outputs": [
    {
     "name": "stdout",
     "output_type": "stream",
     "text": [
      "need pg module and MBrainzDB folder of Python source code if you\n",
      "want to use musicbrainz related functions, e.g. fill_hdf5_from_musicbrainz\n"
     ]
    }
   ],
   "source": [
    "# import hdf5_utils as HDF5\n",
    "# import hdf5_getters as g"
   ]
  },
  {
   "cell_type": "code",
   "execution_count": 3,
   "id": "b23f803d",
   "metadata": {},
   "outputs": [
    {
     "data": {
      "text/plain": [
       "<filter at 0x7fc9bb19d370>"
      ]
     },
     "execution_count": 3,
     "metadata": {},
     "output_type": "execute_result"
    }
   ],
   "source": [
    "# filter(lambda x: x[:3] == 'get',HDF5.__dict__.keys())"
   ]
  },
  {
   "cell_type": "code",
   "execution_count": 2,
   "id": "81bf445b",
   "metadata": {},
   "outputs": [],
   "source": [
    "import glob\n",
    "# files = glob.glob('/Users/vijayaadhithan/Desktop/MillionSongSubset/*/*/*/*.h5')\n",
    "files = glob.glob('/home/project_data/MillionSongSubset/*/*/*/*.h5')"
   ]
  },
  {
   "cell_type": "code",
   "execution_count": 3,
   "id": "235d0b8b",
   "metadata": {},
   "outputs": [
    {
     "data": {
      "text/plain": [
       "10000"
      ]
     },
     "execution_count": 3,
     "metadata": {},
     "output_type": "execute_result"
    }
   ],
   "source": [
    "len(files)"
   ]
  },
  {
   "cell_type": "code",
   "execution_count": 4,
   "id": "9397a496",
   "metadata": {},
   "outputs": [],
   "source": [
    "analysis_sample_rate = []\n",
    "audio_md5 = []\n",
    "danceability = []\n",
    "duration = []\n",
    "end_of_fade_in = []\n",
    "energy = []\n",
    "idx_bars_confidence = []\n",
    "idx_bars_start = []\n",
    "idx_beats_confidence = []\n",
    "idx_beats_start = []\n",
    "idx_sections_confidence = []\n",
    "idx_sections_start = []\n",
    "idx_segments_confidence = []\n",
    "idx_segments_loudness_max = []\n",
    "idx_segments_loudness_max_time = []\n",
    "idx_segments_loudness_start = []\n",
    "idx_segments_pitches = []\n",
    "idx_segments_start = []\n",
    "idx_segments_timebre = []\n",
    "idx_tatums_confidence = []\n",
    "idx_tatums_start = []\n",
    "key = []\n",
    "key_confidence = []\n",
    "loudness = []\n",
    "mode = []\n",
    "mode_confidence = []\n",
    "start_of_fade_out = []\n",
    "tempo = []\n",
    "time_signature = []\n",
    "time_signature_confidence = []\n",
    "track_id = []"
   ]
  },
  {
   "cell_type": "code",
   "execution_count": 5,
   "id": "8bdc4753",
   "metadata": {},
   "outputs": [
    {
     "name": "stdout",
     "output_type": "stream",
     "text": [
      "CPU times: user 3 µs, sys: 1 µs, total: 4 µs\n",
      "Wall time: 7.63 µs\n"
     ]
    }
   ],
   "source": [
    "%time\n",
    "for f in files:\n",
    "    \n",
    "    h5 = h5py.File(f, 'r')\n",
    "    analysis_sample_ratee = h5['analysis']['songs']['analysis_sample_rate'][0]\n",
    "    audio_md55 = h5['analysis']['songs']['audio_md5'][0].decode('utf-8')\n",
    "    danceabilityy = h5['analysis']['songs']['danceability'][0]\n",
    "    durationn = h5['analysis']['songs']['duration'][0]\n",
    "    end_of_fade_inn = h5['analysis']['songs']['end_of_fade_in'][0]\n",
    "    energyy = h5['analysis']['songs']['energy'][0]\n",
    "    idx_bars_confidencee = h5['analysis']['songs']['idx_bars_confidence'][0]\n",
    "    idx_bars_startt = h5['analysis']['songs']['idx_bars_start'][0]\n",
    "    idx_beats_confidencee = h5['analysis']['songs']['idx_beats_confidence'][0]\n",
    "    idx_beats_startt = h5['analysis']['songs']['idx_beats_start'][0]\n",
    "    idx_sections_confidencee = h5['analysis']['songs']['idx_sections_confidence'][0]\n",
    "    idx_sections_startt = h5['analysis']['songs']['idx_sections_start'][0]\n",
    "    idx_segments_confidencee = h5['analysis']['songs']['idx_segments_confidence'][0]\n",
    "    idx_segments_loudness_maxx = h5['analysis']['songs']['idx_segments_loudness_max'][0]\n",
    "    idx_segments_loudness_max_timee = h5['analysis']['songs']['idx_segments_loudness_max_time'][0]\n",
    "    idx_segments_loudness_startt = h5['analysis']['songs']['idx_segments_loudness_start'][0]\n",
    "    idx_segments_pitchess = h5['analysis']['songs']['idx_segments_pitches'][0]\n",
    "    idx_segments_startt = h5['analysis']['songs']['idx_segments_start'][0]\n",
    "    idx_segments_timebree = h5['analysis']['songs']['idx_segments_timbre'][0]\n",
    "    idx_tatums_confidencee = h5['analysis']['songs']['idx_tatums_confidence'][0]\n",
    "    idx_tatums_startt = h5['analysis']['songs']['idx_tatums_start'][0]\n",
    "    keyy = h5['analysis']['songs']['key'][0]\n",
    "    key_confidencee = h5['analysis']['songs']['key_confidence'][0]\n",
    "    loudnesss = h5['analysis']['songs']['loudness'][0]\n",
    "    modee = h5['analysis']['songs']['mode'][0]\n",
    "    mode_confidencee = h5['analysis']['songs']['mode_confidence'][0]\n",
    "    start_of_fade_outt = h5['analysis']['songs']['start_of_fade_out'][0]\n",
    "    tempoo = h5['analysis']['songs']['tempo'][0]\n",
    "    time_signaturee = h5['analysis']['songs']['time_signature'][0]\n",
    "    time_signature_confidencee = h5['analysis']['songs']['time_signature_confidence'][0]\n",
    "    track_idd = h5['analysis']['songs']['track_id'][0]\n",
    "    \n",
    "    analysis_sample_rate.append(analysis_sample_ratee)\n",
    "    audio_md5.append(audio_md55)\n",
    "    danceability.append(danceabilityy)\n",
    "    duration.append(durationn)\n",
    "    end_of_fade_in.append(end_of_fade_inn)\n",
    "    energy.append(energyy)\n",
    "    idx_bars_confidence.append(idx_bars_confidencee)\n",
    "    idx_bars_start.append(idx_bars_startt)\n",
    "    idx_beats_confidence.append(idx_beats_confidencee)\n",
    "    idx_beats_start.append(idx_beats_startt)\n",
    "    idx_sections_confidence.append(idx_sections_confidencee)\n",
    "    idx_sections_start.append(idx_sections_startt)\n",
    "    idx_segments_confidence.append(idx_segments_confidencee)\n",
    "    idx_segments_loudness_max.append(idx_segments_loudness_maxx)\n",
    "    idx_segments_loudness_max_time.append(idx_segments_loudness_max_timee)\n",
    "    idx_segments_loudness_start.append(idx_segments_loudness_startt)\n",
    "    idx_segments_pitches.append(idx_segments_pitchess)\n",
    "    idx_segments_start.append(idx_segments_startt)\n",
    "    idx_segments_timebre.append(idx_segments_timebree)\n",
    "    idx_tatums_confidence.append(idx_tatums_confidencee)\n",
    "    idx_tatums_start.append(idx_tatums_startt)\n",
    "    key.append(keyy)\n",
    "    key_confidence.append(key_confidencee)\n",
    "    loudness.append(loudnesss)\n",
    "    mode.append(modee)\n",
    "    mode_confidence.append(mode_confidencee)\n",
    "    start_of_fade_out.append(start_of_fade_outt)\n",
    "    tempo.append(tempoo)\n",
    "    time_signature.append(time_signaturee)\n",
    "    time_signature_confidence.append(time_signature_confidencee)\n",
    "    track_id.append(track_idd)\n",
    "    h5.close()"
   ]
  },
  {
   "cell_type": "code",
   "execution_count": 6,
   "id": "2ad1f496",
   "metadata": {},
   "outputs": [],
   "source": [
    "data_song = {'analysis_sample_rate':analysis_sample_rate,\n",
    "             'audio_md5':audio_md5,\n",
    "             'danceability':danceability,\n",
    "             'duration':duration,\n",
    "             'end_of_fade_in':end_of_fade_in,\n",
    "             'energy':energy,\n",
    "             'idx_bars_confidence':idx_bars_confidence,\n",
    "             'idx_bars_start':idx_bars_start,\n",
    "             'idx_beats_confidence':idx_beats_confidence,\n",
    "             'idx_beats_start':idx_beats_start,\n",
    "             'idx_sections_confidence':idx_sections_confidence,\n",
    "             'idx_sections_start':idx_sections_start,\n",
    "             'idx_segments_confidence':idx_segments_confidence,\n",
    "             'idx_segments_loudness_max':idx_segments_loudness_max ,\n",
    "             'idx_segments_loudness_max_time':idx_segments_loudness_max_time,\n",
    "             'idx_segments_loudness_start':idx_segments_loudness_start,\n",
    "             'idx_segments_pitches':idx_segments_pitches,\n",
    "             'idx_segments_start':idx_segments_start,\n",
    "             'idx_segments_timebre':idx_segments_timebre,\n",
    "             'idx_tatums_confidence':idx_tatums_confidence,\n",
    "             'idx_tatums_start':idx_tatums_start,\n",
    "             'key':key,\n",
    "             'key_confidence':key_confidence,\n",
    "             'loudness':loudness,\n",
    "             'mode':mode ,\n",
    "             'mode_confidence':mode_confidence,\n",
    "             'start_of_fade_out':start_of_fade_out,\n",
    "             'tempo':tempo,\n",
    "             'time_signature':time_signature,\n",
    "             'time_signature_confidence':time_signature_confidence,\n",
    "             'track_id':track_id \n",
    "            }"
   ]
  },
  {
   "cell_type": "code",
   "execution_count": 8,
   "id": "a4a1e894",
   "metadata": {},
   "outputs": [],
   "source": [
    "df=pd.DataFrame(data_song)"
   ]
  },
  {
   "cell_type": "code",
   "execution_count": 8,
   "id": "656774cd",
   "metadata": {},
   "outputs": [
    {
     "data": {
      "text/plain": [
       "0"
      ]
     },
     "execution_count": 8,
     "metadata": {},
     "output_type": "execute_result"
    }
   ],
   "source": [
    "len(song_df3)"
   ]
  },
  {
   "cell_type": "code",
   "execution_count": 10,
   "id": "d8902753",
   "metadata": {},
   "outputs": [
    {
     "name": "stdout",
     "output_type": "stream",
     "text": [
      "\n",
      "Connecting to SQLite database. If it doesn't exist, a new one will be created...\n"
     ]
    }
   ],
   "source": [
    "#Inserting the Pandas Dataframe values into SQLite\n",
    "print(\"\\nConnecting to SQLite database. If it doesn't exist, a new one will be created...\")\n",
    "connection = sqlite3.connect('/tmp/project.db')"
   ]
  },
  {
   "cell_type": "code",
   "execution_count": 11,
   "id": "b687926c",
   "metadata": {},
   "outputs": [
    {
     "data": {
      "text/plain": [
       "10000"
      ]
     },
     "execution_count": 11,
     "metadata": {},
     "output_type": "execute_result"
    }
   ],
   "source": [
    "df.to_sql(\n",
    "    name = 'song_all_wo_column_test',\n",
    "    con = connection,\n",
    "    if_exists = 'replace',\n",
    "    index = False,\n",
    "    dtype = {\n",
    "        'index': 'real',\n",
    "        'analysis_sample_rate': 'real',\n",
    "        'audio_md5': 'text',\n",
    "        'danceability': 'real',\n",
    "        'duration': 'real',\n",
    "        'end_of_fade_in': 'real',\n",
    "        'energy': 'real',\n",
    "        'idx_bars_confidence': 'real',\n",
    "        'idx_bars_start': 'real',\n",
    "        'idx_beats_confidence': 'real',\n",
    "        'idx_beats_start': 'real',\n",
    "        'idx_sections_confidence': 'real',\n",
    "        'idx_sections_start': 'real',\n",
    "        'idx_segments_confidence': 'real',\n",
    "        'idx_segments_loudness_max': 'real',\n",
    "        'idx_segments_loudness_max_time': 'real',\n",
    "        'idx_segments_loudness_start': 'real',\n",
    "        'idx_segments_pitches': 'real',\n",
    "        'idx_segments_start': 'real',\n",
    "        'idx_segments_timebre': 'real',\n",
    "        'idx_tatums_confidence': 'real',\n",
    "        'idx_tatums_start': 'real',\n",
    "        'key': 'real',\n",
    "        'key_confidence': 'real',\n",
    "        'loudness': 'real',\n",
    "        'mode': 'real',\n",
    "        'mode_confidence': 'real',\n",
    "        'start_of_fade_out': 'real',\n",
    "        'tempo': 'real',\n",
    "        'time_signature': 'real',\n",
    "        'time_signature_confidence': 'real',\n",
    "        'track_id': 'text'\n",
    "    }\n",
    "\n",
    ")"
   ]
  },
  {
   "cell_type": "code",
   "execution_count": 12,
   "id": "b4c232d0",
   "metadata": {},
   "outputs": [
    {
     "name": "stdout",
     "output_type": "stream",
     "text": [
      "[(22050.0, '242150e5cf13162cc9a7aebeaa19fec7', 0.0, 1280.88771, 0.375, 0.0, 0.0, 0.0, 0.0, 0.0, 0.0, 0.0, 0.0, 0.0, 0.0, 0.0, 0.0, 0.0, 0.0, 0.0, 0.0, 8.0, 0.2, -15.357, 0.0, 0.351, 1172.428, 88.341, 7.0, 0.694, b'TRBHDSW128F42ABC12')]\n"
     ]
    }
   ],
   "source": [
    "cursor = connection.cursor()\n",
    "# rows = cursor.execute(\"SELECT * FROM song_3column_test WHERE duration > 1000\").fetchall()\n",
    "rows = cursor.execute(\"SELECT * FROM song_all_wo_column_test WHERE duration > 1000 LIMIT 1\").fetchall()\n",
    "print(rows)"
   ]
  },
  {
   "cell_type": "code",
   "execution_count": 12,
   "id": "03f6877a",
   "metadata": {},
   "outputs": [
    {
     "name": "stdout",
     "output_type": "stream",
     "text": [
      "\n",
      "Saving and closing SQLite database connection...\n"
     ]
    }
   ],
   "source": [
    "#Solving and closing the SQLite database\n",
    "print('\\nSaving and closing SQLite database connection...')\n",
    "connection.commit()\n",
    "connection.close()"
   ]
  },
  {
   "cell_type": "code",
   "execution_count": null,
   "id": "1898ff74",
   "metadata": {},
   "outputs": [],
   "source": []
  }
 ],
 "metadata": {
  "kernelspec": {
   "display_name": "Python 3 (ipykernel)",
   "language": "python",
   "name": "python3"
  },
  "language_info": {
   "codemirror_mode": {
    "name": "ipython",
    "version": 3
   },
   "file_extension": ".py",
   "mimetype": "text/x-python",
   "name": "python",
   "nbconvert_exporter": "python",
   "pygments_lexer": "ipython3",
   "version": "3.10.6"
  }
 },
 "nbformat": 4,
 "nbformat_minor": 5
}
